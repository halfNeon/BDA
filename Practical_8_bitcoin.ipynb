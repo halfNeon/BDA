{
  "nbformat": 4,
  "nbformat_minor": 0,
  "metadata": {
    "colab": {
      "provenance": []
    },
    "kernelspec": {
      "name": "python3",
      "display_name": "Python 3"
    },
    "language_info": {
      "name": "python"
    }
  },
  "cells": [
    {
      "cell_type": "code",
      "execution_count": 2,
      "metadata": {
        "colab": {
          "base_uri": "https://localhost:8080/"
        },
        "id": "BtcUnEPLeKvt",
        "outputId": "ba1ccb8a-d623-4b82-a754-556b96d5b3e2"
      },
      "outputs": [
        {
          "output_type": "stream",
          "name": "stdout",
          "text": [
            "\r0% [Working]\r            \rGet:1 https://cloud.r-project.org/bin/linux/ubuntu jammy-cran40/ InRelease [3,626 B]\n",
            "\r0% [Connecting to archive.ubuntu.com (91.189.91.82)] [Connecting to security.ubuntu.com (185.125.190\r0% [Connecting to archive.ubuntu.com (91.189.91.82)] [Connecting to security.ubuntu.com (185.125.190\r                                                                                                    \rGet:2 https://developer.download.nvidia.com/compute/cuda/repos/ubuntu2204/x86_64  InRelease [1,581 B]\n",
            "\r0% [Connecting to archive.ubuntu.com (91.189.91.82)] [Connecting to security.ubuntu.com (185.125.190\r0% [Connecting to archive.ubuntu.com (91.189.91.82)] [Connecting to security.ubuntu.com (185.125.190\r                                                                                                    \rHit:3 http://archive.ubuntu.com/ubuntu jammy InRelease\n",
            "Get:4 http://archive.ubuntu.com/ubuntu jammy-updates InRelease [128 kB]\n",
            "Get:5 http://security.ubuntu.com/ubuntu jammy-security InRelease [129 kB]\n",
            "Get:6 http://archive.ubuntu.com/ubuntu jammy-backports InRelease [127 kB]\n",
            "Get:7 https://developer.download.nvidia.com/compute/cuda/repos/ubuntu2204/x86_64  Packages [973 kB]\n",
            "Hit:8 https://ppa.launchpadcontent.net/c2d4u.team/c2d4u4.0+/ubuntu jammy InRelease\n",
            "Hit:9 https://ppa.launchpadcontent.net/deadsnakes/ppa/ubuntu jammy InRelease\n",
            "Get:10 http://archive.ubuntu.com/ubuntu jammy-updates/universe amd64 Packages [1,409 kB]\n",
            "Hit:11 https://ppa.launchpadcontent.net/graphics-drivers/ppa/ubuntu jammy InRelease\n",
            "Get:12 http://archive.ubuntu.com/ubuntu jammy-updates/main amd64 Packages [2,258 kB]\n",
            "Hit:13 https://ppa.launchpadcontent.net/ubuntugis/ppa/ubuntu jammy InRelease\n",
            "Get:14 http://archive.ubuntu.com/ubuntu jammy-updates/restricted amd64 Packages [2,664 kB]\n",
            "Get:15 http://security.ubuntu.com/ubuntu jammy-security/restricted amd64 Packages [2,591 kB]\n",
            "Get:16 http://security.ubuntu.com/ubuntu jammy-security/universe amd64 Packages [1,125 kB]\n",
            "Get:17 http://security.ubuntu.com/ubuntu jammy-security/main amd64 Packages [1,994 kB]\n",
            "Fetched 13.4 MB in 3s (5,027 kB/s)\n",
            "Reading package lists... Done\n",
            "Reading package lists... Done\n",
            "Building dependency tree... Done\n",
            "Reading state information... Done\n",
            "build-essential is already the newest version (12.9ubuntu3).\n",
            "Suggested packages:\n",
            "  gmp-doc libgmp10-doc libmpfr-dev\n",
            "The following NEW packages will be installed:\n",
            "  libgmp-dev libgmpxx4ldbl\n",
            "0 upgraded, 2 newly installed, 0 to remove and 46 not upgraded.\n",
            "Need to get 346 kB of archives.\n",
            "After this operation, 1,702 kB of additional disk space will be used.\n",
            "Get:1 http://archive.ubuntu.com/ubuntu jammy/main amd64 libgmpxx4ldbl amd64 2:6.2.1+dfsg-3ubuntu1 [9,580 B]\n",
            "Get:2 http://archive.ubuntu.com/ubuntu jammy/main amd64 libgmp-dev amd64 2:6.2.1+dfsg-3ubuntu1 [337 kB]\n",
            "Fetched 346 kB in 0s (1,127 kB/s)\n",
            "Selecting previously unselected package libgmpxx4ldbl:amd64.\n",
            "(Reading database ... 121925 files and directories currently installed.)\n",
            "Preparing to unpack .../libgmpxx4ldbl_2%3a6.2.1+dfsg-3ubuntu1_amd64.deb ...\n",
            "Unpacking libgmpxx4ldbl:amd64 (2:6.2.1+dfsg-3ubuntu1) ...\n",
            "Selecting previously unselected package libgmp-dev:amd64.\n",
            "Preparing to unpack .../libgmp-dev_2%3a6.2.1+dfsg-3ubuntu1_amd64.deb ...\n",
            "Unpacking libgmp-dev:amd64 (2:6.2.1+dfsg-3ubuntu1) ...\n",
            "Setting up libgmpxx4ldbl:amd64 (2:6.2.1+dfsg-3ubuntu1) ...\n",
            "Setting up libgmp-dev:amd64 (2:6.2.1+dfsg-3ubuntu1) ...\n",
            "Processing triggers for libc-bin (2.35-0ubuntu3.4) ...\n",
            "/sbin/ldconfig.real: /usr/local/lib/libtbbmalloc.so.2 is not a symbolic link\n",
            "\n",
            "/sbin/ldconfig.real: /usr/local/lib/libtbb.so.12 is not a symbolic link\n",
            "\n",
            "/sbin/ldconfig.real: /usr/local/lib/libtbbmalloc_proxy.so.2 is not a symbolic link\n",
            "\n",
            "/sbin/ldconfig.real: /usr/local/lib/libtbbbind.so.3 is not a symbolic link\n",
            "\n",
            "/sbin/ldconfig.real: /usr/local/lib/libtbbbind_2_5.so.3 is not a symbolic link\n",
            "\n",
            "/sbin/ldconfig.real: /usr/local/lib/libtbbbind_2_0.so.3 is not a symbolic link\n",
            "\n"
          ]
        }
      ],
      "source": [
        "!apt-get update\n",
        "!apt-get install -y build-essential libgmp-dev"
      ]
    },
    {
      "cell_type": "code",
      "source": [
        "!pip install fastecdsa\n",
        "!pip install bitcoinlib"
      ],
      "metadata": {
        "colab": {
          "base_uri": "https://localhost:8080/"
        },
        "id": "LZk8G0HxfOqx",
        "outputId": "e5c21987-ef01-4ab7-d864-f07c77c3bceb"
      },
      "execution_count": 3,
      "outputs": [
        {
          "output_type": "stream",
          "name": "stdout",
          "text": [
            "Collecting fastecdsa\n",
            "  Using cached fastecdsa-2.3.2.tar.gz (47 kB)\n",
            "  Installing build dependencies ... \u001b[?25l\u001b[?25hdone\n",
            "  Getting requirements to build wheel ... \u001b[?25l\u001b[?25hdone\n",
            "  Preparing metadata (pyproject.toml) ... \u001b[?25l\u001b[?25hdone\n",
            "Building wheels for collected packages: fastecdsa\n",
            "  Building wheel for fastecdsa (pyproject.toml) ... \u001b[?25l\u001b[?25hdone\n",
            "  Created wheel for fastecdsa: filename=fastecdsa-2.3.2-cp310-cp310-linux_x86_64.whl size=88128 sha256=56d766c12d1a76dd3737cc15a53edddaa1f4478e8606abf0416693218a0302a3\n",
            "  Stored in directory: /root/.cache/pip/wheels/1c/f6/86/44d8cb71db6987b0d6f7764a5279b61e6a61482d3a8c46d9f8\n",
            "Successfully built fastecdsa\n",
            "Installing collected packages: fastecdsa\n",
            "Successfully installed fastecdsa-2.3.2\n",
            "Collecting bitcoinlib\n",
            "  Using cached bitcoinlib-0.6.15-py3-none-any.whl (4.3 MB)\n",
            "Requirement already satisfied: requests>=2.25.0 in /usr/local/lib/python3.10/dist-packages (from bitcoinlib) (2.31.0)\n",
            "Collecting ecdsa>=0.17 (from bitcoinlib)\n",
            "  Using cached ecdsa-0.19.0-py2.py3-none-any.whl (149 kB)\n",
            "Collecting pycryptodome>=3.14.1 (from bitcoinlib)\n",
            "  Using cached pycryptodome-3.20.0-cp35-abi3-manylinux_2_17_x86_64.manylinux2014_x86_64.whl (2.1 MB)\n",
            "Requirement already satisfied: SQLAlchemy>=2.0.0 in /usr/local/lib/python3.10/dist-packages (from bitcoinlib) (2.0.31)\n",
            "Requirement already satisfied: fastecdsa>=2.2.1 in /usr/local/lib/python3.10/dist-packages (from bitcoinlib) (2.3.2)\n",
            "Requirement already satisfied: numpy>=1.22.0 in /usr/local/lib/python3.10/dist-packages (from bitcoinlib) (1.25.2)\n",
            "Requirement already satisfied: six>=1.9.0 in /usr/local/lib/python3.10/dist-packages (from ecdsa>=0.17->bitcoinlib) (1.16.0)\n",
            "Requirement already satisfied: charset-normalizer<4,>=2 in /usr/local/lib/python3.10/dist-packages (from requests>=2.25.0->bitcoinlib) (3.3.2)\n",
            "Requirement already satisfied: idna<4,>=2.5 in /usr/local/lib/python3.10/dist-packages (from requests>=2.25.0->bitcoinlib) (3.7)\n",
            "Requirement already satisfied: urllib3<3,>=1.21.1 in /usr/local/lib/python3.10/dist-packages (from requests>=2.25.0->bitcoinlib) (2.0.7)\n",
            "Requirement already satisfied: certifi>=2017.4.17 in /usr/local/lib/python3.10/dist-packages (from requests>=2.25.0->bitcoinlib) (2024.6.2)\n",
            "Requirement already satisfied: typing-extensions>=4.6.0 in /usr/local/lib/python3.10/dist-packages (from SQLAlchemy>=2.0.0->bitcoinlib) (4.12.2)\n",
            "Requirement already satisfied: greenlet!=0.4.17 in /usr/local/lib/python3.10/dist-packages (from SQLAlchemy>=2.0.0->bitcoinlib) (3.0.3)\n",
            "Installing collected packages: pycryptodome, ecdsa, bitcoinlib\n",
            "Successfully installed bitcoinlib-0.6.15 ecdsa-0.19.0 pycryptodome-3.20.0\n"
          ]
        }
      ]
    },
    {
      "cell_type": "code",
      "source": [
        "from bitcoinlib.wallets import Wallet\n",
        "\n",
        "w = Wallet.create('Wallet8')\n",
        "key1 = w.get_key()\n",
        "print(key1.address)\n",
        "w.scan()\n",
        "print(w.info())"
      ],
      "metadata": {
        "colab": {
          "base_uri": "https://localhost:8080/"
        },
        "id": "ypbnhcp8fY7K",
        "outputId": "1b6aa5bc-5f86-447d-a125-b8956a057a8d"
      },
      "execution_count": 4,
      "outputs": [
        {
          "output_type": "stream",
          "name": "stdout",
          "text": [
            "1Ci3j1JyebaGLh8M6XgKPB6MBCTe2Ma3Fx\n",
            "=== WALLET ===\n",
            " ID                             1\n",
            " Name                           Wallet8\n",
            " Owner                          \n",
            " Scheme                         bip32\n",
            " Multisig                       False\n",
            " Witness type                   legacy\n",
            " Main network                   bitcoin\n",
            " Latest update                  2024-07-05 16:53:11.378029\n",
            "\n",
            "= Wallet Master Key =\n",
            " ID                             1\n",
            " Private                        True\n",
            " Depth                          0\n",
            "\n",
            "- NETWORK: bitcoin -\n",
            "- - Keys\n",
            "    6 m/44'/0'/0'/0/0              1Ci3j1JyebaGLh8M6XgKPB6MBCTe2Ma3Fx            address index 0                        0.00000000 ₿\n",
            "    7 m/44'/0'/0'/0/1              14FA2iJy59Aazia2EG3XT2MmPzeDZNc35W            address index 1                        0.00000000 ₿\n",
            "    8 m/44'/0'/0'/0/2              1Q4jgGm4dBzkLa1i9g8F3sKuGdR6abtGt6            address index 2                        0.00000000 ₿\n",
            "    9 m/44'/0'/0'/0/3              1EhqXJfsuz2XzGzPssoLMPyAF7PZHRHxMU            address index 3                        0.00000000 ₿\n",
            "   10 m/44'/0'/0'/0/4              1AVG4AyJCXXWsGGiUNXQNw1bgBy4eKTcxz            address index 4                        0.00000000 ₿\n",
            "   12 m/44'/0'/0'/1/0              1DgMq1WDYRDc5grkf28ASLjFssnUptR9DE            address index 0                        0.00000000 ₿\n",
            "   13 m/44'/0'/0'/1/1              171Va5KvJqAxUkndVmnv8c1pDbAEYKc9ot            address index 1                        0.00000000 ₿\n",
            "   14 m/44'/0'/0'/1/2              1KZVsu2esAckWpm9sp1SYg1t87xLb7uqR8            address index 2                        0.00000000 ₿\n",
            "   15 m/44'/0'/0'/1/3              1Nk15zD8Dz48XeBsT4UTN1ibV2EkTz5rbD            address index 3                        0.00000000 ₿\n",
            "   16 m/44'/0'/0'/1/4              12n3vRxCduWqQMuo9wQcF26c3HfwSHUUfK            address index 4                        0.00000000 ₿\n",
            "\n",
            "- - Transactions Account 0 (0)\n",
            "\n",
            "= Balance Totals (includes unconfirmed) =\n",
            "\n",
            "\n",
            "None\n"
          ]
        }
      ]
    }
  ]
}
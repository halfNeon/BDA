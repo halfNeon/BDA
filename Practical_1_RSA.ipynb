{
  "nbformat": 4,
  "nbformat_minor": 0,
  "metadata": {
    "colab": {
      "provenance": []
    },
    "kernelspec": {
      "name": "python3",
      "display_name": "Python 3"
    },
    "language_info": {
      "name": "python"
    }
  },
  "cells": [
    {
      "cell_type": "code",
      "execution_count": 1,
      "metadata": {
        "colab": {
          "base_uri": "https://localhost:8080/"
        },
        "id": "MAlzfbMT3IRh",
        "outputId": "bb203fc1-fe7e-4865-b7a5-a3cd83aa27c1"
      },
      "outputs": [
        {
          "output_type": "stream",
          "name": "stdout",
          "text": [
            "Collecting pycryptodome\n",
            "  Downloading pycryptodome-3.20.0-cp35-abi3-manylinux_2_17_x86_64.manylinux2014_x86_64.whl (2.1 MB)\n",
            "\u001b[2K     \u001b[90m━━━━━━━━━━━━━━━━━━━━━━━━━━━━━━━━━━━━━━━━\u001b[0m \u001b[32m2.1/2.1 MB\u001b[0m \u001b[31m9.0 MB/s\u001b[0m eta \u001b[36m0:00:00\u001b[0m\n",
            "\u001b[?25hInstalling collected packages: pycryptodome\n",
            "Successfully installed pycryptodome-3.20.0\n",
            "Sender  30819f300d06092a864886f70d010101050003818d0030818902818100cd8b5b0f6f0ad70bb18087b845bf8df12eb5e300aee69c0a1c2c2828eae615701f846f5109b7df872ce029a9b0fb06fec023d9a5ecb0a3d79e771117a88576e6e2a0fcc8cae3d04e4eaa44f6dce4efd6482049fb07c031cc7b4b8f995661372f9117e98f677b5aa0e587310aa51705470389e7d5afba472874697867c464ca5b0203010001\n",
            "Receiver  30819f300d06092a864886f70d010101050003818d0030818902818100b759fe18141725e434b03d353d4ce9a6c858bd8c387ee64b3d1212a0ffb6dd123eedefe356c0a4e62aef84cf8ca7fdde7537681c942e0ea9517d288be641a00966f87beed21bf4f7fe42f6b645adc76710c91d75d3aced14dc56f297b07ae08084fa40dc891d4866743e0941927db2b09f07d78b7663d32ea86df22c9f4d1a1b0203010001\n"
          ]
        }
      ],
      "source": [
        "!pip3 install pycryptodome\n",
        "import hashlib\n",
        "import random\n",
        "import string\n",
        "import binascii\n",
        "import datetime\n",
        "import collections\n",
        "from Crypto.PublicKey import RSA\n",
        "from Crypto import Random\n",
        "from Crypto.Cipher import PKCS1_v1_5\n",
        "\n",
        "class Client:\n",
        "   def __init__(self):\n",
        "\n",
        "      random = Random.new().read\n",
        "      self._private_key = RSA.generate(1024, random)\n",
        "      self._public_key = self._private_key.publickey()\n",
        "      self._signer = PKCS1_v1_5.new(self._private_key)\n",
        "   @property\n",
        "   def identity(self):\n",
        "      return binascii.hexlify(self._public_key.exportKey(format='DER')).decode('ascii')\n",
        "\n",
        "Account_1 = Client()\n",
        "Account_2 = Client()\n",
        "print (\"Sender \",Account_1.identity)\n",
        "print (\"Receiver \",Account_2.identity)\n"
      ]
    }
  ]
}